{
 "cells": [
  {
   "cell_type": "code",
   "execution_count": 1,
   "metadata": {},
   "outputs": [],
   "source": [
    "#https://www.kaggle.com/code/pythonafroz/solar-power-generation-forecast-with-99-auc"
   ]
  },
  {
   "cell_type": "code",
   "execution_count": 2,
   "metadata": {},
   "outputs": [],
   "source": [
    "import pandas as pd\n",
    "import numpy as np\n",
    "import seaborn as sns \n",
    "import matplotlib.pyplot as plt\n",
    "%matplotlib inline \n",
    "\n",
    "import warnings\n",
    "warnings.filterwarnings(\"ignore\")"
   ]
  },
  {
   "cell_type": "code",
   "execution_count": 3,
   "metadata": {},
   "outputs": [],
   "source": [
    "pd.set_option('display.max_columns',None)\n",
    "pd.set_option('display.max_rows',None)\n",
    "pd.set_option('precision',3)"
   ]
  },
  {
   "cell_type": "code",
   "execution_count": 4,
   "metadata": {},
   "outputs": [],
   "source": [
    "#import both the generation and weather data for plant 1\n",
    "gen_data1 = pd.read_csv('Plant_1_Generation_Data.csv')\n",
    "wea_data1 = pd.read_csv('Plant_1_Weather_Sensor_Data.csv')"
   ]
  },
  {
   "cell_type": "code",
   "execution_count": 5,
   "metadata": {},
   "outputs": [
    {
     "data": {
      "text/html": [
       "<style  type=\"text/css\" >\n",
       "#T_3d656cc2_3aad_11ed_9b93_9828a64164b1row0_col0,#T_3d656cc2_3aad_11ed_9b93_9828a64164b1row0_col1,#T_3d656cc2_3aad_11ed_9b93_9828a64164b1row0_col2,#T_3d656cc2_3aad_11ed_9b93_9828a64164b1row0_col3,#T_3d656cc2_3aad_11ed_9b93_9828a64164b1row0_col4,#T_3d656cc2_3aad_11ed_9b93_9828a64164b1row0_col5,#T_3d656cc2_3aad_11ed_9b93_9828a64164b1row0_col6,#T_3d656cc2_3aad_11ed_9b93_9828a64164b1row1_col0,#T_3d656cc2_3aad_11ed_9b93_9828a64164b1row1_col1,#T_3d656cc2_3aad_11ed_9b93_9828a64164b1row1_col2,#T_3d656cc2_3aad_11ed_9b93_9828a64164b1row1_col3,#T_3d656cc2_3aad_11ed_9b93_9828a64164b1row1_col4,#T_3d656cc2_3aad_11ed_9b93_9828a64164b1row1_col5,#T_3d656cc2_3aad_11ed_9b93_9828a64164b1row1_col6,#T_3d656cc2_3aad_11ed_9b93_9828a64164b1row2_col0,#T_3d656cc2_3aad_11ed_9b93_9828a64164b1row2_col1,#T_3d656cc2_3aad_11ed_9b93_9828a64164b1row2_col2,#T_3d656cc2_3aad_11ed_9b93_9828a64164b1row2_col3,#T_3d656cc2_3aad_11ed_9b93_9828a64164b1row2_col4,#T_3d656cc2_3aad_11ed_9b93_9828a64164b1row2_col5,#T_3d656cc2_3aad_11ed_9b93_9828a64164b1row2_col6,#T_3d656cc2_3aad_11ed_9b93_9828a64164b1row3_col0,#T_3d656cc2_3aad_11ed_9b93_9828a64164b1row3_col1,#T_3d656cc2_3aad_11ed_9b93_9828a64164b1row3_col2,#T_3d656cc2_3aad_11ed_9b93_9828a64164b1row3_col3,#T_3d656cc2_3aad_11ed_9b93_9828a64164b1row3_col4,#T_3d656cc2_3aad_11ed_9b93_9828a64164b1row3_col5,#T_3d656cc2_3aad_11ed_9b93_9828a64164b1row3_col6,#T_3d656cc2_3aad_11ed_9b93_9828a64164b1row4_col0,#T_3d656cc2_3aad_11ed_9b93_9828a64164b1row4_col1,#T_3d656cc2_3aad_11ed_9b93_9828a64164b1row4_col2,#T_3d656cc2_3aad_11ed_9b93_9828a64164b1row4_col3,#T_3d656cc2_3aad_11ed_9b93_9828a64164b1row4_col4,#T_3d656cc2_3aad_11ed_9b93_9828a64164b1row4_col5,#T_3d656cc2_3aad_11ed_9b93_9828a64164b1row4_col6{\n",
       "            background-color:  OliveDrab;\n",
       "            color:  white;\n",
       "            border-color:  darkblack;\n",
       "        }</style><table id=\"T_3d656cc2_3aad_11ed_9b93_9828a64164b1\" ><thead>    <tr>        <th class=\"blank level0\" ></th>        <th class=\"col_heading level0 col0\" >DATE_TIME</th>        <th class=\"col_heading level0 col1\" >PLANT_ID</th>        <th class=\"col_heading level0 col2\" >SOURCE_KEY</th>        <th class=\"col_heading level0 col3\" >DC_POWER</th>        <th class=\"col_heading level0 col4\" >AC_POWER</th>        <th class=\"col_heading level0 col5\" >DAILY_YIELD</th>        <th class=\"col_heading level0 col6\" >TOTAL_YIELD</th>    </tr></thead><tbody>\n",
       "                <tr>\n",
       "                        <th id=\"T_3d656cc2_3aad_11ed_9b93_9828a64164b1level0_row0\" class=\"row_heading level0 row0\" >36524</th>\n",
       "                        <td id=\"T_3d656cc2_3aad_11ed_9b93_9828a64164b1row0_col0\" class=\"data row0 col0\" >02-06-2020 14:45</td>\n",
       "                        <td id=\"T_3d656cc2_3aad_11ed_9b93_9828a64164b1row0_col1\" class=\"data row0 col1\" >4135001</td>\n",
       "                        <td id=\"T_3d656cc2_3aad_11ed_9b93_9828a64164b1row0_col2\" class=\"data row0 col2\" >3PZuoBAID5Wc2HD</td>\n",
       "                        <td id=\"T_3d656cc2_3aad_11ed_9b93_9828a64164b1row0_col3\" class=\"data row0 col3\" >8609.429</td>\n",
       "                        <td id=\"T_3d656cc2_3aad_11ed_9b93_9828a64164b1row0_col4\" class=\"data row0 col4\" >841.600</td>\n",
       "                        <td id=\"T_3d656cc2_3aad_11ed_9b93_9828a64164b1row0_col5\" class=\"data row0 col5\" >6080.571</td>\n",
       "                        <td id=\"T_3d656cc2_3aad_11ed_9b93_9828a64164b1row0_col6\" class=\"data row0 col6\" >7127349.571</td>\n",
       "            </tr>\n",
       "            <tr>\n",
       "                        <th id=\"T_3d656cc2_3aad_11ed_9b93_9828a64164b1level0_row1\" class=\"row_heading level0 row1\" >8972</th>\n",
       "                        <td id=\"T_3d656cc2_3aad_11ed_9b93_9828a64164b1row1_col0\" class=\"data row1 col0\" >19-05-2020 09:45</td>\n",
       "                        <td id=\"T_3d656cc2_3aad_11ed_9b93_9828a64164b1row1_col1\" class=\"data row1 col1\" >4135001</td>\n",
       "                        <td id=\"T_3d656cc2_3aad_11ed_9b93_9828a64164b1row1_col2\" class=\"data row1 col2\" >3PZuoBAID5Wc2HD</td>\n",
       "                        <td id=\"T_3d656cc2_3aad_11ed_9b93_9828a64164b1row1_col3\" class=\"data row1 col3\" >6177.429</td>\n",
       "                        <td id=\"T_3d656cc2_3aad_11ed_9b93_9828a64164b1row1_col4\" class=\"data row1 col4\" >605.171</td>\n",
       "                        <td id=\"T_3d656cc2_3aad_11ed_9b93_9828a64164b1row1_col5\" class=\"data row1 col5\" >1208.714</td>\n",
       "                        <td id=\"T_3d656cc2_3aad_11ed_9b93_9828a64164b1row1_col6\" class=\"data row1 col6\" >7015126.714</td>\n",
       "            </tr>\n",
       "            <tr>\n",
       "                        <th id=\"T_3d656cc2_3aad_11ed_9b93_9828a64164b1level0_row2\" class=\"row_heading level0 row2\" >23687</th>\n",
       "                        <td id=\"T_3d656cc2_3aad_11ed_9b93_9828a64164b1row2_col0\" class=\"data row2 col0\" >27-05-2020 03:30</td>\n",
       "                        <td id=\"T_3d656cc2_3aad_11ed_9b93_9828a64164b1row2_col1\" class=\"data row2 col1\" >4135001</td>\n",
       "                        <td id=\"T_3d656cc2_3aad_11ed_9b93_9828a64164b1row2_col2\" class=\"data row2 col2\" >YxYtjZvoooNbGkE</td>\n",
       "                        <td id=\"T_3d656cc2_3aad_11ed_9b93_9828a64164b1row2_col3\" class=\"data row2 col3\" >0.000</td>\n",
       "                        <td id=\"T_3d656cc2_3aad_11ed_9b93_9828a64164b1row2_col4\" class=\"data row2 col4\" >0.000</td>\n",
       "                        <td id=\"T_3d656cc2_3aad_11ed_9b93_9828a64164b1row2_col5\" class=\"data row2 col5\" >0.000</td>\n",
       "                        <td id=\"T_3d656cc2_3aad_11ed_9b93_9828a64164b1row2_col6\" class=\"data row2 col6\" >7269333.000</td>\n",
       "            </tr>\n",
       "            <tr>\n",
       "                        <th id=\"T_3d656cc2_3aad_11ed_9b93_9828a64164b1level0_row3\" class=\"row_heading level0 row3\" >11943</th>\n",
       "                        <td id=\"T_3d656cc2_3aad_11ed_9b93_9828a64164b1row3_col0\" class=\"data row3 col0\" >21-05-2020 09:30</td>\n",
       "                        <td id=\"T_3d656cc2_3aad_11ed_9b93_9828a64164b1row3_col1\" class=\"data row3 col1\" >4135001</td>\n",
       "                        <td id=\"T_3d656cc2_3aad_11ed_9b93_9828a64164b1row3_col2\" class=\"data row3 col2\" >rGa61gmuvPhdLxV</td>\n",
       "                        <td id=\"T_3d656cc2_3aad_11ed_9b93_9828a64164b1row3_col3\" class=\"data row3 col3\" >9836.143</td>\n",
       "                        <td id=\"T_3d656cc2_3aad_11ed_9b93_9828a64164b1row3_col4\" class=\"data row3 col4\" >961.843</td>\n",
       "                        <td id=\"T_3d656cc2_3aad_11ed_9b93_9828a64164b1row3_col5\" class=\"data row3 col5\" >1422.857</td>\n",
       "                        <td id=\"T_3d656cc2_3aad_11ed_9b93_9828a64164b1row3_col6\" class=\"data row3 col6\" >7154055.857</td>\n",
       "            </tr>\n",
       "            <tr>\n",
       "                        <th id=\"T_3d656cc2_3aad_11ed_9b93_9828a64164b1level0_row4\" class=\"row_heading level0 row4\" >35527</th>\n",
       "                        <td id=\"T_3d656cc2_3aad_11ed_9b93_9828a64164b1row4_col0\" class=\"data row4 col0\" >02-06-2020 03:15</td>\n",
       "                        <td id=\"T_3d656cc2_3aad_11ed_9b93_9828a64164b1row4_col1\" class=\"data row4 col1\" >4135001</td>\n",
       "                        <td id=\"T_3d656cc2_3aad_11ed_9b93_9828a64164b1row4_col2\" class=\"data row4 col2\" >uHbuxQJl8lW7ozc</td>\n",
       "                        <td id=\"T_3d656cc2_3aad_11ed_9b93_9828a64164b1row4_col3\" class=\"data row4 col3\" >0.000</td>\n",
       "                        <td id=\"T_3d656cc2_3aad_11ed_9b93_9828a64164b1row4_col4\" class=\"data row4 col4\" >0.000</td>\n",
       "                        <td id=\"T_3d656cc2_3aad_11ed_9b93_9828a64164b1row4_col5\" class=\"data row4 col5\" >0.000</td>\n",
       "                        <td id=\"T_3d656cc2_3aad_11ed_9b93_9828a64164b1row4_col6\" class=\"data row4 col6\" >7170942.000</td>\n",
       "            </tr>\n",
       "    </tbody></table>"
      ],
      "text/plain": [
       "<pandas.io.formats.style.Styler at 0x2703112eeb0>"
      ]
     },
     "execution_count": 5,
     "metadata": {},
     "output_type": "execute_result"
    }
   ],
   "source": [
    "#View the gen data but with pretty colors\n",
    "gen_data1.sample(5).style.set_properties(\n",
    "    **{\n",
    "        'background-color': 'OliveDrab',\n",
    "        'color': 'white',\n",
    "        'border-color': 'darkblack'\n",
    "    })"
   ]
  },
  {
   "cell_type": "code",
   "execution_count": 6,
   "metadata": {},
   "outputs": [
    {
     "data": {
      "text/html": [
       "<style  type=\"text/css\" >\n",
       "#T_3d69d941_3aad_11ed_8333_9828a64164b1row0_col0,#T_3d69d941_3aad_11ed_8333_9828a64164b1row0_col1,#T_3d69d941_3aad_11ed_8333_9828a64164b1row0_col2,#T_3d69d941_3aad_11ed_8333_9828a64164b1row0_col3,#T_3d69d941_3aad_11ed_8333_9828a64164b1row0_col4,#T_3d69d941_3aad_11ed_8333_9828a64164b1row0_col5,#T_3d69d941_3aad_11ed_8333_9828a64164b1row1_col0,#T_3d69d941_3aad_11ed_8333_9828a64164b1row1_col1,#T_3d69d941_3aad_11ed_8333_9828a64164b1row1_col2,#T_3d69d941_3aad_11ed_8333_9828a64164b1row1_col3,#T_3d69d941_3aad_11ed_8333_9828a64164b1row1_col4,#T_3d69d941_3aad_11ed_8333_9828a64164b1row1_col5,#T_3d69d941_3aad_11ed_8333_9828a64164b1row2_col0,#T_3d69d941_3aad_11ed_8333_9828a64164b1row2_col1,#T_3d69d941_3aad_11ed_8333_9828a64164b1row2_col2,#T_3d69d941_3aad_11ed_8333_9828a64164b1row2_col3,#T_3d69d941_3aad_11ed_8333_9828a64164b1row2_col4,#T_3d69d941_3aad_11ed_8333_9828a64164b1row2_col5,#T_3d69d941_3aad_11ed_8333_9828a64164b1row3_col0,#T_3d69d941_3aad_11ed_8333_9828a64164b1row3_col1,#T_3d69d941_3aad_11ed_8333_9828a64164b1row3_col2,#T_3d69d941_3aad_11ed_8333_9828a64164b1row3_col3,#T_3d69d941_3aad_11ed_8333_9828a64164b1row3_col4,#T_3d69d941_3aad_11ed_8333_9828a64164b1row3_col5,#T_3d69d941_3aad_11ed_8333_9828a64164b1row4_col0,#T_3d69d941_3aad_11ed_8333_9828a64164b1row4_col1,#T_3d69d941_3aad_11ed_8333_9828a64164b1row4_col2,#T_3d69d941_3aad_11ed_8333_9828a64164b1row4_col3,#T_3d69d941_3aad_11ed_8333_9828a64164b1row4_col4,#T_3d69d941_3aad_11ed_8333_9828a64164b1row4_col5{\n",
       "            background-color:  pink;\n",
       "            color:  Black;\n",
       "            border-color:  darkblack;\n",
       "        }</style><table id=\"T_3d69d941_3aad_11ed_8333_9828a64164b1\" ><thead>    <tr>        <th class=\"blank level0\" ></th>        <th class=\"col_heading level0 col0\" >DATE_TIME</th>        <th class=\"col_heading level0 col1\" >PLANT_ID</th>        <th class=\"col_heading level0 col2\" >SOURCE_KEY</th>        <th class=\"col_heading level0 col3\" >AMBIENT_TEMPERATURE</th>        <th class=\"col_heading level0 col4\" >MODULE_TEMPERATURE</th>        <th class=\"col_heading level0 col5\" >IRRADIATION</th>    </tr></thead><tbody>\n",
       "                <tr>\n",
       "                        <th id=\"T_3d69d941_3aad_11ed_8333_9828a64164b1level0_row0\" class=\"row_heading level0 row0\" >938</th>\n",
       "                        <td id=\"T_3d69d941_3aad_11ed_8333_9828a64164b1row0_col0\" class=\"data row0 col0\" >2020-05-25 10:30:00</td>\n",
       "                        <td id=\"T_3d69d941_3aad_11ed_8333_9828a64164b1row0_col1\" class=\"data row0 col1\" >4135001</td>\n",
       "                        <td id=\"T_3d69d941_3aad_11ed_8333_9828a64164b1row0_col2\" class=\"data row0 col2\" >HmiyD2TTLFNqkNe</td>\n",
       "                        <td id=\"T_3d69d941_3aad_11ed_8333_9828a64164b1row0_col3\" class=\"data row0 col3\" >29.568</td>\n",
       "                        <td id=\"T_3d69d941_3aad_11ed_8333_9828a64164b1row0_col4\" class=\"data row0 col4\" >55.372</td>\n",
       "                        <td id=\"T_3d69d941_3aad_11ed_8333_9828a64164b1row0_col5\" class=\"data row0 col5\" >0.863</td>\n",
       "            </tr>\n",
       "            <tr>\n",
       "                        <th id=\"T_3d69d941_3aad_11ed_8333_9828a64164b1level0_row1\" class=\"row_heading level0 row1\" >1368</th>\n",
       "                        <td id=\"T_3d69d941_3aad_11ed_8333_9828a64164b1row1_col0\" class=\"data row1 col0\" >2020-05-30 02:15:00</td>\n",
       "                        <td id=\"T_3d69d941_3aad_11ed_8333_9828a64164b1row1_col1\" class=\"data row1 col1\" >4135001</td>\n",
       "                        <td id=\"T_3d69d941_3aad_11ed_8333_9828a64164b1row1_col2\" class=\"data row1 col2\" >HmiyD2TTLFNqkNe</td>\n",
       "                        <td id=\"T_3d69d941_3aad_11ed_8333_9828a64164b1row1_col3\" class=\"data row1 col3\" >21.316</td>\n",
       "                        <td id=\"T_3d69d941_3aad_11ed_8333_9828a64164b1row1_col4\" class=\"data row1 col4\" >20.495</td>\n",
       "                        <td id=\"T_3d69d941_3aad_11ed_8333_9828a64164b1row1_col5\" class=\"data row1 col5\" >0.000</td>\n",
       "            </tr>\n",
       "            <tr>\n",
       "                        <th id=\"T_3d69d941_3aad_11ed_8333_9828a64164b1level0_row2\" class=\"row_heading level0 row2\" >279</th>\n",
       "                        <td id=\"T_3d69d941_3aad_11ed_8333_9828a64164b1row2_col0\" class=\"data row2 col0\" >2020-05-18 00:30:00</td>\n",
       "                        <td id=\"T_3d69d941_3aad_11ed_8333_9828a64164b1row2_col1\" class=\"data row2 col1\" >4135001</td>\n",
       "                        <td id=\"T_3d69d941_3aad_11ed_8333_9828a64164b1row2_col2\" class=\"data row2 col2\" >HmiyD2TTLFNqkNe</td>\n",
       "                        <td id=\"T_3d69d941_3aad_11ed_8333_9828a64164b1row2_col3\" class=\"data row2 col3\" >21.142</td>\n",
       "                        <td id=\"T_3d69d941_3aad_11ed_8333_9828a64164b1row2_col4\" class=\"data row2 col4\" >20.531</td>\n",
       "                        <td id=\"T_3d69d941_3aad_11ed_8333_9828a64164b1row2_col5\" class=\"data row2 col5\" >0.000</td>\n",
       "            </tr>\n",
       "            <tr>\n",
       "                        <th id=\"T_3d69d941_3aad_11ed_8333_9828a64164b1level0_row3\" class=\"row_heading level0 row3\" >2379</th>\n",
       "                        <td id=\"T_3d69d941_3aad_11ed_8333_9828a64164b1row3_col0\" class=\"data row3 col0\" >2020-06-09 15:15:00</td>\n",
       "                        <td id=\"T_3d69d941_3aad_11ed_8333_9828a64164b1row3_col1\" class=\"data row3 col1\" >4135001</td>\n",
       "                        <td id=\"T_3d69d941_3aad_11ed_8333_9828a64164b1row3_col2\" class=\"data row3 col2\" >HmiyD2TTLFNqkNe</td>\n",
       "                        <td id=\"T_3d69d941_3aad_11ed_8333_9828a64164b1row3_col3\" class=\"data row3 col3\" >30.593</td>\n",
       "                        <td id=\"T_3d69d941_3aad_11ed_8333_9828a64164b1row3_col4\" class=\"data row3 col4\" >44.847</td>\n",
       "                        <td id=\"T_3d69d941_3aad_11ed_8333_9828a64164b1row3_col5\" class=\"data row3 col5\" >0.582</td>\n",
       "            </tr>\n",
       "            <tr>\n",
       "                        <th id=\"T_3d69d941_3aad_11ed_8333_9828a64164b1level0_row4\" class=\"row_heading level0 row4\" >433</th>\n",
       "                        <td id=\"T_3d69d941_3aad_11ed_8333_9828a64164b1row4_col0\" class=\"data row4 col0\" >2020-05-19 15:45:00</td>\n",
       "                        <td id=\"T_3d69d941_3aad_11ed_8333_9828a64164b1row4_col1\" class=\"data row4 col1\" >4135001</td>\n",
       "                        <td id=\"T_3d69d941_3aad_11ed_8333_9828a64164b1row4_col2\" class=\"data row4 col2\" >HmiyD2TTLFNqkNe</td>\n",
       "                        <td id=\"T_3d69d941_3aad_11ed_8333_9828a64164b1row4_col3\" class=\"data row4 col3\" >29.762</td>\n",
       "                        <td id=\"T_3d69d941_3aad_11ed_8333_9828a64164b1row4_col4\" class=\"data row4 col4\" >40.830</td>\n",
       "                        <td id=\"T_3d69d941_3aad_11ed_8333_9828a64164b1row4_col5\" class=\"data row4 col5\" >0.380</td>\n",
       "            </tr>\n",
       "    </tbody></table>"
      ],
      "text/plain": [
       "<pandas.io.formats.style.Styler at 0x2703190dc10>"
      ]
     },
     "execution_count": 6,
     "metadata": {},
     "output_type": "execute_result"
    }
   ],
   "source": [
    "#wea data but with pretty colors\n",
    "wea_data1.sample(5).style.set_properties(\n",
    "    **{\n",
    "        'background-color': 'pink',\n",
    "        'color': 'Black',\n",
    "        'border-color': 'darkblack'\n",
    "    })"
   ]
  }
 ],
 "metadata": {
  "kernelspec": {
   "display_name": "Python 3",
   "language": "python",
   "name": "python3"
  },
  "language_info": {
   "codemirror_mode": {
    "name": "ipython",
    "version": 3
   },
   "file_extension": ".py",
   "mimetype": "text/x-python",
   "name": "python",
   "nbconvert_exporter": "python",
   "pygments_lexer": "ipython3",
   "version": "3.8.5"
  }
 },
 "nbformat": 4,
 "nbformat_minor": 4
}
