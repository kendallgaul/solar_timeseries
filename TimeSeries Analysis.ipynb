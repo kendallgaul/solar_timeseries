{
 "cells": [
  {
   "cell_type": "code",
   "execution_count": 1,
   "metadata": {},
   "outputs": [],
   "source": [
    "#https://www.kaggle.com/code/sumi25/understand-arima-and-tune-p-d-q/notebook\n",
    "#Dr. Festus Elleh"
   ]
  },
  {
   "cell_type": "code",
   "execution_count": 2,
   "metadata": {},
   "outputs": [],
   "source": [
    "#step by step from the coding Elleh video\n",
    "#Import the libraries\n",
    "\n",
    "import os                                                     #view operating system file information\n",
    "import pandas as pd                                           #for dataframe and data manipulations\n",
    "import numpy as np                                            #Provides array objects for calculations\n",
    "from numpy import cumsum                  \n",
    "import matplotlib.pyplot as plt                               #For plots\n",
    "from statsmodels.tsa.seasonal import seasonal_decompose       #import seasonal decompose\n",
    "from scipy import signal                                      #For periodogram\n",
    "from datetime import datetime                                #For datetime\n",
    "from statsmodels.tsa.stattools import adfuller                #Import augmented dicky-fuller test function\n",
    "from statsmodels.graphics.tsaplots import plot_acf, plot_pacf #Plot ACF and PACF\n",
    "from pandas.plotting import autocorrelation_plot              #Look for seasonalality in the data\n",
    "import pmdarima as pm                                         #for auto-arima\n",
    "\n",
    "from statsmodels.tsa.arima_model import ARIMA                 #To perform ARIMA analysis\n",
    "from statsmodels.tsa.statespace.sarimax import SARIMAX        #to perform seasonal ARIMA analysis\n",
    "import warnings                                               #to ignore warning\n",
    "warnings.filterwarnings('ignore')\n",
    "import joblib                                                 #to save and load the model"
   ]
  },
  {
   "cell_type": "code",
   "execution_count": 3,
   "metadata": {},
   "outputs": [],
   "source": [
    "#shows matplotlib output inline in the jupyter notebook\n",
    "%matplotlib inline"
   ]
  },
  {
   "cell_type": "code",
   "execution_count": 4,
   "metadata": {},
   "outputs": [
    {
     "ename": "FileNotFoundError",
     "evalue": "[Errno 2] No such file or directory: 'medical_time_series .csv'",
     "output_type": "error",
     "traceback": [
      "\u001b[1;31m---------------------------------------------------------------------------\u001b[0m",
      "\u001b[1;31mFileNotFoundError\u001b[0m                         Traceback (most recent call last)",
      "\u001b[1;32m<ipython-input-4-fd36d1aa1629>\u001b[0m in \u001b[0;36m<module>\u001b[1;34m\u001b[0m\n\u001b[1;32m----> 1\u001b[1;33m \u001b[0mmd\u001b[0m \u001b[1;33m=\u001b[0m \u001b[0mpd\u001b[0m\u001b[1;33m.\u001b[0m\u001b[0mread_csv\u001b[0m\u001b[1;33m(\u001b[0m\u001b[1;34m'medical_time_series .csv'\u001b[0m\u001b[1;33m)\u001b[0m\u001b[1;33m\u001b[0m\u001b[1;33m\u001b[0m\u001b[0m\n\u001b[0m",
      "\u001b[1;32m~\\anaconda3\\lib\\site-packages\\pandas\\io\\parsers.py\u001b[0m in \u001b[0;36mread_csv\u001b[1;34m(filepath_or_buffer, sep, delimiter, header, names, index_col, usecols, squeeze, prefix, mangle_dupe_cols, dtype, engine, converters, true_values, false_values, skipinitialspace, skiprows, skipfooter, nrows, na_values, keep_default_na, na_filter, verbose, skip_blank_lines, parse_dates, infer_datetime_format, keep_date_col, date_parser, dayfirst, cache_dates, iterator, chunksize, compression, thousands, decimal, lineterminator, quotechar, quoting, doublequote, escapechar, comment, encoding, dialect, error_bad_lines, warn_bad_lines, delim_whitespace, low_memory, memory_map, float_precision)\u001b[0m\n\u001b[0;32m    684\u001b[0m     )\n\u001b[0;32m    685\u001b[0m \u001b[1;33m\u001b[0m\u001b[0m\n\u001b[1;32m--> 686\u001b[1;33m     \u001b[1;32mreturn\u001b[0m \u001b[0m_read\u001b[0m\u001b[1;33m(\u001b[0m\u001b[0mfilepath_or_buffer\u001b[0m\u001b[1;33m,\u001b[0m \u001b[0mkwds\u001b[0m\u001b[1;33m)\u001b[0m\u001b[1;33m\u001b[0m\u001b[1;33m\u001b[0m\u001b[0m\n\u001b[0m\u001b[0;32m    687\u001b[0m \u001b[1;33m\u001b[0m\u001b[0m\n\u001b[0;32m    688\u001b[0m \u001b[1;33m\u001b[0m\u001b[0m\n",
      "\u001b[1;32m~\\anaconda3\\lib\\site-packages\\pandas\\io\\parsers.py\u001b[0m in \u001b[0;36m_read\u001b[1;34m(filepath_or_buffer, kwds)\u001b[0m\n\u001b[0;32m    450\u001b[0m \u001b[1;33m\u001b[0m\u001b[0m\n\u001b[0;32m    451\u001b[0m     \u001b[1;31m# Create the parser.\u001b[0m\u001b[1;33m\u001b[0m\u001b[1;33m\u001b[0m\u001b[1;33m\u001b[0m\u001b[0m\n\u001b[1;32m--> 452\u001b[1;33m     \u001b[0mparser\u001b[0m \u001b[1;33m=\u001b[0m \u001b[0mTextFileReader\u001b[0m\u001b[1;33m(\u001b[0m\u001b[0mfp_or_buf\u001b[0m\u001b[1;33m,\u001b[0m \u001b[1;33m**\u001b[0m\u001b[0mkwds\u001b[0m\u001b[1;33m)\u001b[0m\u001b[1;33m\u001b[0m\u001b[1;33m\u001b[0m\u001b[0m\n\u001b[0m\u001b[0;32m    453\u001b[0m \u001b[1;33m\u001b[0m\u001b[0m\n\u001b[0;32m    454\u001b[0m     \u001b[1;32mif\u001b[0m \u001b[0mchunksize\u001b[0m \u001b[1;32mor\u001b[0m \u001b[0miterator\u001b[0m\u001b[1;33m:\u001b[0m\u001b[1;33m\u001b[0m\u001b[1;33m\u001b[0m\u001b[0m\n",
      "\u001b[1;32m~\\anaconda3\\lib\\site-packages\\pandas\\io\\parsers.py\u001b[0m in \u001b[0;36m__init__\u001b[1;34m(self, f, engine, **kwds)\u001b[0m\n\u001b[0;32m    944\u001b[0m             \u001b[0mself\u001b[0m\u001b[1;33m.\u001b[0m\u001b[0moptions\u001b[0m\u001b[1;33m[\u001b[0m\u001b[1;34m\"has_index_names\"\u001b[0m\u001b[1;33m]\u001b[0m \u001b[1;33m=\u001b[0m \u001b[0mkwds\u001b[0m\u001b[1;33m[\u001b[0m\u001b[1;34m\"has_index_names\"\u001b[0m\u001b[1;33m]\u001b[0m\u001b[1;33m\u001b[0m\u001b[1;33m\u001b[0m\u001b[0m\n\u001b[0;32m    945\u001b[0m \u001b[1;33m\u001b[0m\u001b[0m\n\u001b[1;32m--> 946\u001b[1;33m         \u001b[0mself\u001b[0m\u001b[1;33m.\u001b[0m\u001b[0m_make_engine\u001b[0m\u001b[1;33m(\u001b[0m\u001b[0mself\u001b[0m\u001b[1;33m.\u001b[0m\u001b[0mengine\u001b[0m\u001b[1;33m)\u001b[0m\u001b[1;33m\u001b[0m\u001b[1;33m\u001b[0m\u001b[0m\n\u001b[0m\u001b[0;32m    947\u001b[0m \u001b[1;33m\u001b[0m\u001b[0m\n\u001b[0;32m    948\u001b[0m     \u001b[1;32mdef\u001b[0m \u001b[0mclose\u001b[0m\u001b[1;33m(\u001b[0m\u001b[0mself\u001b[0m\u001b[1;33m)\u001b[0m\u001b[1;33m:\u001b[0m\u001b[1;33m\u001b[0m\u001b[1;33m\u001b[0m\u001b[0m\n",
      "\u001b[1;32m~\\anaconda3\\lib\\site-packages\\pandas\\io\\parsers.py\u001b[0m in \u001b[0;36m_make_engine\u001b[1;34m(self, engine)\u001b[0m\n\u001b[0;32m   1176\u001b[0m     \u001b[1;32mdef\u001b[0m \u001b[0m_make_engine\u001b[0m\u001b[1;33m(\u001b[0m\u001b[0mself\u001b[0m\u001b[1;33m,\u001b[0m \u001b[0mengine\u001b[0m\u001b[1;33m=\u001b[0m\u001b[1;34m\"c\"\u001b[0m\u001b[1;33m)\u001b[0m\u001b[1;33m:\u001b[0m\u001b[1;33m\u001b[0m\u001b[1;33m\u001b[0m\u001b[0m\n\u001b[0;32m   1177\u001b[0m         \u001b[1;32mif\u001b[0m \u001b[0mengine\u001b[0m \u001b[1;33m==\u001b[0m \u001b[1;34m\"c\"\u001b[0m\u001b[1;33m:\u001b[0m\u001b[1;33m\u001b[0m\u001b[1;33m\u001b[0m\u001b[0m\n\u001b[1;32m-> 1178\u001b[1;33m             \u001b[0mself\u001b[0m\u001b[1;33m.\u001b[0m\u001b[0m_engine\u001b[0m \u001b[1;33m=\u001b[0m \u001b[0mCParserWrapper\u001b[0m\u001b[1;33m(\u001b[0m\u001b[0mself\u001b[0m\u001b[1;33m.\u001b[0m\u001b[0mf\u001b[0m\u001b[1;33m,\u001b[0m \u001b[1;33m**\u001b[0m\u001b[0mself\u001b[0m\u001b[1;33m.\u001b[0m\u001b[0moptions\u001b[0m\u001b[1;33m)\u001b[0m\u001b[1;33m\u001b[0m\u001b[1;33m\u001b[0m\u001b[0m\n\u001b[0m\u001b[0;32m   1179\u001b[0m         \u001b[1;32melse\u001b[0m\u001b[1;33m:\u001b[0m\u001b[1;33m\u001b[0m\u001b[1;33m\u001b[0m\u001b[0m\n\u001b[0;32m   1180\u001b[0m             \u001b[1;32mif\u001b[0m \u001b[0mengine\u001b[0m \u001b[1;33m==\u001b[0m \u001b[1;34m\"python\"\u001b[0m\u001b[1;33m:\u001b[0m\u001b[1;33m\u001b[0m\u001b[1;33m\u001b[0m\u001b[0m\n",
      "\u001b[1;32m~\\anaconda3\\lib\\site-packages\\pandas\\io\\parsers.py\u001b[0m in \u001b[0;36m__init__\u001b[1;34m(self, src, **kwds)\u001b[0m\n\u001b[0;32m   2006\u001b[0m         \u001b[0mkwds\u001b[0m\u001b[1;33m[\u001b[0m\u001b[1;34m\"usecols\"\u001b[0m\u001b[1;33m]\u001b[0m \u001b[1;33m=\u001b[0m \u001b[0mself\u001b[0m\u001b[1;33m.\u001b[0m\u001b[0musecols\u001b[0m\u001b[1;33m\u001b[0m\u001b[1;33m\u001b[0m\u001b[0m\n\u001b[0;32m   2007\u001b[0m \u001b[1;33m\u001b[0m\u001b[0m\n\u001b[1;32m-> 2008\u001b[1;33m         \u001b[0mself\u001b[0m\u001b[1;33m.\u001b[0m\u001b[0m_reader\u001b[0m \u001b[1;33m=\u001b[0m \u001b[0mparsers\u001b[0m\u001b[1;33m.\u001b[0m\u001b[0mTextReader\u001b[0m\u001b[1;33m(\u001b[0m\u001b[0msrc\u001b[0m\u001b[1;33m,\u001b[0m \u001b[1;33m**\u001b[0m\u001b[0mkwds\u001b[0m\u001b[1;33m)\u001b[0m\u001b[1;33m\u001b[0m\u001b[1;33m\u001b[0m\u001b[0m\n\u001b[0m\u001b[0;32m   2009\u001b[0m         \u001b[0mself\u001b[0m\u001b[1;33m.\u001b[0m\u001b[0munnamed_cols\u001b[0m \u001b[1;33m=\u001b[0m \u001b[0mself\u001b[0m\u001b[1;33m.\u001b[0m\u001b[0m_reader\u001b[0m\u001b[1;33m.\u001b[0m\u001b[0munnamed_cols\u001b[0m\u001b[1;33m\u001b[0m\u001b[1;33m\u001b[0m\u001b[0m\n\u001b[0;32m   2010\u001b[0m \u001b[1;33m\u001b[0m\u001b[0m\n",
      "\u001b[1;32mpandas\\_libs\\parsers.pyx\u001b[0m in \u001b[0;36mpandas._libs.parsers.TextReader.__cinit__\u001b[1;34m()\u001b[0m\n",
      "\u001b[1;32mpandas\\_libs\\parsers.pyx\u001b[0m in \u001b[0;36mpandas._libs.parsers.TextReader._setup_parser_source\u001b[1;34m()\u001b[0m\n",
      "\u001b[1;31mFileNotFoundError\u001b[0m: [Errno 2] No such file or directory: 'medical_time_series .csv'"
     ]
    }
   ],
   "source": [
    "md = pd.read_csv('medical_time_series .csv')"
   ]
  },
  {
   "cell_type": "code",
   "execution_count": null,
   "metadata": {},
   "outputs": [],
   "source": [
    "#exploratory data analysis (EDA)\n",
    "#View shape of the data\n",
    "md.shape"
   ]
  },
  {
   "cell_type": "code",
   "execution_count": null,
   "metadata": {},
   "outputs": [],
   "source": [
    "md.describe()"
   ]
  },
  {
   "cell_type": "code",
   "execution_count": null,
   "metadata": {},
   "outputs": [],
   "source": [
    "#view the data\n",
    "md.head(10)"
   ]
  },
  {
   "cell_type": "code",
   "execution_count": null,
   "metadata": {},
   "outputs": [],
   "source": [
    "#look for null or missing values\n",
    "md.isnull().any()"
   ]
  },
  {
   "cell_type": "code",
   "execution_count": null,
   "metadata": {},
   "outputs": [],
   "source": [
    "#Convert Day to Date as time series model needs a date structure\n",
    "md['Date'] = (pd.date_range(start=datetime(2019, 1, 1),\n",
    "                           periods=md.shape[0], freq='24H'))\n",
    "#Set the Date as an index\n",
    "md.set_index('Date', inplace=True)\n",
    "md"
   ]
  },
  {
   "cell_type": "code",
   "execution_count": null,
   "metadata": {},
   "outputs": [],
   "source": [
    "#Visualize the data\n",
    "plt.figure(figsize=(10,5))\n",
    "plt.plot(md.Revenue)\n",
    "plt.title('Revenue')\n",
    "plt.xlabel('Day')\n",
    "plt.ylabel('Revenue in million $')\n",
    "plt.grid(True)\n",
    "plt.show"
   ]
  },
  {
   "cell_type": "code",
   "execution_count": null,
   "metadata": {},
   "outputs": [],
   "source": [
    "#Data cleaning\n",
    "#Drop null columns\n",
    "md = md.dropna()"
   ]
  },
  {
   "cell_type": "code",
   "execution_count": null,
   "metadata": {},
   "outputs": [],
   "source": [
    "#Export clean data to csv file\n",
    "pd.DataFrame(md).to_csv('time_series_clean.csv')"
   ]
  },
  {
   "cell_type": "code",
   "execution_count": null,
   "metadata": {},
   "outputs": [],
   "source": [
    "#Make time series stationary\n",
    "#Test for stationarity\n",
    "\n",
    "#identifying whether a time series, is stationary or non-stationary is very important.\n",
    "result = adfuller(md['Revenue'])\n",
    "\n",
    "print('Test statistics', result[0])\n",
    "print('p-value:',result[1])\n",
    "print('Critical values:', result[4])"
   ]
  },
  {
   "cell_type": "code",
   "execution_count": null,
   "metadata": {},
   "outputs": [],
   "source": [
    "#HypO: Time series is non-stationary\n",
    "#Hyp1: Time series is stationary\n",
    "\n",
    "if result[1]<= 0.05:\n",
    "    print('Reject null hypothesis, the time series is stationary')\n",
    "else:\n",
    "    print('Fail to reject the null hypothesis, the time series is non-stationary')"
   ]
  },
  {
   "cell_type": "code",
   "execution_count": null,
   "metadata": {},
   "outputs": [],
   "source": [
    "#Make the time series stationary\n",
    "md_stationary = md.diff(1).dropna()\n",
    "\n",
    "#View the data\n",
    "md_stationary.head(5)"
   ]
  },
  {
   "cell_type": "code",
   "execution_count": null,
   "metadata": {},
   "outputs": [],
   "source": [
    "#Test for stationary data again\n",
    "result = adfuller(md_stationary['Revenue'])\n",
    "\n",
    "print('Test statistics', result[0])\n",
    "print('p-value:',result[1])\n",
    "print('Critical values:', result[4])\n",
    "\n",
    "if result[1]<= 0.05:\n",
    "    print('Reject null hypothesis, the time series is stationary')\n",
    "else:\n",
    "    print('Fail to reject the null hypothesis, the time series is non-stationary')"
   ]
  },
  {
   "cell_type": "code",
   "execution_count": null,
   "metadata": {},
   "outputs": [],
   "source": [
    "#Split to train and test\n",
    "X_train = md_stationary.loc[:'2020-09-30']\n",
    "X_test = md_stationary.loc[:'2020-10-01']\n",
    "\n",
    "print('X_train Shape', X_train.shape)\n",
    "print('X_test Shape', X_test.shape)\n",
    "\n",
    "#We can see some cyclicality (repeating pattern but no fixed period)"
   ]
  },
  {
   "cell_type": "code",
   "execution_count": null,
   "metadata": {},
   "outputs": [],
   "source": [
    "#Spectral Density \n",
    "f, Pxx_den = signal.periodogram(md_stationary['Revenue'])\n",
    "plt.semilogy(f, Pxx_den)\n",
    "plt.ylim([1e-6, 1e2])\n",
    "plt.title('Spectral Density')\n",
    "plt.xlabel('Frequency')\n",
    "plt.ylabel('Spectal Density')\n",
    "plt.show()"
   ]
  },
  {
   "cell_type": "code",
   "execution_count": null,
   "metadata": {},
   "outputs": [],
   "source": [
    "#looking for seasonality in data\n",
    "\n",
    "#View subset of data to indentify seasonality\n",
    "#Same seasonality is seen in the data\n",
    "\n",
    "md.loc[:'2019-06-30'].plot()"
   ]
  },
  {
   "cell_type": "code",
   "execution_count": null,
   "metadata": {},
   "outputs": [],
   "source": [
    "#Continue to look for seasonality in the data\n",
    "plt.rcParams.update({'figure.figsize':(5,3), 'figure.dpi':120})\n",
    "autocorrelation_plot(md.Revenue.tolist())"
   ]
  },
  {
   "cell_type": "code",
   "execution_count": null,
   "metadata": {},
   "outputs": [],
   "source": [
    "#Perform decomposition\n",
    "########\n",
    "decomp = seasonal_decompose(md_stationary.Revenue, period=90)\n",
    "\n",
    "#Plot decomp\n",
    "decomp.plot()\n",
    "plt.show()\n",
    "\n",
    "#Some seasonality is seen in the data as shown below"
   ]
  },
  {
   "cell_type": "code",
   "execution_count": null,
   "metadata": {},
   "outputs": [],
   "source": [
    "#Plot seasonality\n",
    "\n",
    "plt.title('Seasonality')\n",
    "decomp.seasonal.plot()"
   ]
  },
  {
   "cell_type": "code",
   "execution_count": null,
   "metadata": {},
   "outputs": [],
   "source": [
    "#View the trend\n",
    "plt.title('Trend')\n",
    "decomp.trend.plot()"
   ]
  },
  {
   "cell_type": "code",
   "execution_count": null,
   "metadata": {},
   "outputs": [],
   "source": [
    "#Plot the residual\n",
    "plt.title('Residuals')\n",
    "decomp.resid.plot()"
   ]
  },
  {
   "cell_type": "code",
   "execution_count": null,
   "metadata": {},
   "outputs": [],
   "source": [
    "autocorrelation_plot(md_stationary)\n",
    "plt.show()"
   ]
  },
  {
   "cell_type": "code",
   "execution_count": null,
   "metadata": {},
   "outputs": [],
   "source": [
    "#change array size to 1d\n",
    "array_fix = md_stationary['Revenue']"
   ]
  },
  {
   "cell_type": "code",
   "execution_count": null,
   "metadata": {},
   "outputs": [],
   "source": [
    "#Plot the ACF of md\n",
    "plot_acf(array_fix)\n",
    "plt.show()"
   ]
  },
  {
   "cell_type": "code",
   "execution_count": null,
   "metadata": {},
   "outputs": [],
   "source": [
    "#partial autocorrelation\n",
    "plot_pacf(array_fix)\n",
    "plt.show()"
   ]
  },
  {
   "cell_type": "code",
   "execution_count": null,
   "metadata": {},
   "outputs": [],
   "source": [
    "#Pick best order by AIC. Smaller value for AIC is preferable_aic = np.inf\n",
    "\n",
    "best_aic = np.inf\n",
    "best_order = None\n",
    "bestmdl = None\n",
    "rng = range(3)\n",
    "for p in rng: #loop over p values\n",
    "    for q in rng: #loop over q values\n",
    "        try:\n",
    "            \n",
    "            #create and fit ARIMA(p,q) model\n",
    "            model = SARIMAX(array_fix, order=(p,1,q), trend='c')\n",
    "            results = model.fit()\n",
    "            tmp_aic = results.aic\n",
    "            print(p, q, results.aic, results.bic)\n",
    "            if tmp_aic < best_aic:\n",
    "                best_aic = tmp_aic\n",
    "                best_order = (p,q)\n",
    "                best_mdl = tmp_mdl\n",
    "        #Print order and results\n",
    "        except:\n",
    "            print(p,q, None, None)\n",
    "            \n",
    "print('nBest AIC: {:6.5f} | order: {}'.format(best_aic, best_order))"
   ]
  },
  {
   "cell_type": "code",
   "execution_count": null,
   "metadata": {},
   "outputs": [],
   "source": [
    "#Auto ARIMA\n",
    "\n",
    "#Find the best model using Auto-ARIMA. (Includes seasonality)\n",
    "model = pm.auto_arima(array_fix,\n",
    "                     seasonal=True, m=90,\n",
    "                     d=1, D=1,\n",
    "                     start_p=1, start_q=1,\n",
    "                     max_p=2, max_q=2,\n",
    "                     max_P=2, max_Q=2,\n",
    "                     trace=True,\n",
    "                     error_action='ignore',\n",
    "                     suppress_warnings=True)\n",
    "\n",
    "print(model.summary())   #Print model summary"
   ]
  },
  {
   "cell_type": "code",
   "execution_count": null,
   "metadata": {},
   "outputs": [],
   "source": [
    "#Time series modeling\n",
    "\n",
    "#Create the time series model\n",
    "\n",
    "model = SARIMAX(array_fix, order=(1,1,0), seasonal_order=(1,1,0,90))\n",
    "results = model.fit()\n",
    "results.summary()"
   ]
  },
  {
   "cell_type": "code",
   "execution_count": null,
   "metadata": {},
   "outputs": [],
   "source": [
    "#Print mean absolute error\n",
    "mae = np.mean(np.abs(results.resid))\n",
    "print('Mean absolute error', mae)"
   ]
  },
  {
   "cell_type": "code",
   "execution_count": null,
   "metadata": {},
   "outputs": [],
   "source": [
    "#Create the 4 diagnostics plots\n",
    "results.plot_diagnostics().show()"
   ]
  },
  {
   "cell_type": "code",
   "execution_count": null,
   "metadata": {},
   "outputs": [],
   "source": [
    "#Validate with test set\n",
    "\n",
    "#Generate predictions\n",
    "prediction = results.get_prediction(start=-90)\n",
    "\n",
    "#Extract prediction mean\n",
    "mean_prediction = prediction.predicted_mean\n",
    "#Get confidence intervals of predictions\n",
    "confidence_intervals = prediction.conf_int()\n",
    "#Select lower and upper confidence limits\n",
    "lower_limits = confidence_intervals.loc[:,'lower Revenue']\n",
    "upper_limits = confidence_intervals.loc[:, 'upper Revenue']\n",
    "#Print best estimate predictions\n",
    "print(mean_prediction)"
   ]
  },
  {
   "cell_type": "code",
   "execution_count": null,
   "metadata": {},
   "outputs": [],
   "source": [
    "#Plot the data\n",
    "plt.figure(figsize=(12,4))\n",
    "plt.plot(X_test.index, X_test, label='observed (test set)')\n",
    "\n",
    "#plot your mean predictions\n",
    "plt.plot(mean_prediction.index, mean_prediction, color='r', label='forecast')\n",
    "\n",
    "#shade the area between your confidence limits\n",
    "plt.fill_between(lower_limits.index, lower_limits, upper_limits, color='pink')\n",
    "\n",
    "#set labels, legends and show plot\n",
    "plt.title('Forecast comparing with test data')\n",
    "plt.xlabel('Date')\n",
    "plt.ylabel('Revenue (in millions)')\n",
    "plt.legend()\n",
    "plt.show()"
   ]
  },
  {
   "cell_type": "code",
   "execution_count": null,
   "metadata": {},
   "outputs": [],
   "source": [
    "#Perform Forecast\n",
    "\n",
    "#forecast\n",
    "diff_forecast = results.get_forecast(steps=180)\n",
    "mean_forecast = diff_forecast.predicted_mean\n",
    "print(mean_forecast.head(5))\n",
    "#Get confidence intervals of predictions\n",
    "confidence_intervals = diff_forecast.conf_int()\n",
    "#Select lower and upper confidence limits\n",
    "lower_limits = confidence_intervals.loc[:,'lower Revenue']\n",
    "upper_limits = confidence_intervals.loc[:,'upper Revenue']"
   ]
  },
  {
   "cell_type": "code",
   "execution_count": null,
   "metadata": {},
   "outputs": [],
   "source": [
    "#Plot the forecasted revenue data\n",
    "plt.plot(array_fix.index, array_fix, label='Observed')\n",
    "#Plot the mean predictions\n",
    "plt.plot(mean_forecast.index, mean_forecast, color='r', label='Forecast')\n",
    "\n",
    "#Shade the area between the confidence limits\n",
    "plt.fill_between(lower_limits.index, lower_limits, upper_limits, color='pink')\n",
    "\n",
    "#set labels, legends and show plot\n",
    "plt.title('Revenue with forecasted projections for 2021')\n",
    "plt.xlabel('Date')\n",
    "plt.ylabel('Revenue (in millions)')\n",
    "#plt.xtick(rotation = 45)\n",
    "plt.legend()\n",
    "plt.show()"
   ]
  },
  {
   "cell_type": "code",
   "execution_count": null,
   "metadata": {},
   "outputs": [],
   "source": [
    "plt.title('Revenue projection for year 2021')\n",
    "plt.xlabel('Date')\n",
    "plt.ylabel('Revenue (in millions)')\n",
    "mean_forecast.plot()"
   ]
  },
  {
   "cell_type": "code",
   "execution_count": null,
   "metadata": {},
   "outputs": [],
   "source": [
    "#Saving the model\n",
    "\n",
    "joblib.dump(model, 'med_timeseries.pkl')"
   ]
  },
  {
   "cell_type": "code",
   "execution_count": null,
   "metadata": {},
   "outputs": [],
   "source": [
    "loaded_model = joblib.load('med_timeseries.pkl')"
   ]
  }
 ],
 "metadata": {
  "kernelspec": {
   "display_name": "Python 3",
   "language": "python",
   "name": "python3"
  },
  "language_info": {
   "codemirror_mode": {
    "name": "ipython",
    "version": 3
   },
   "file_extension": ".py",
   "mimetype": "text/x-python",
   "name": "python",
   "nbconvert_exporter": "python",
   "pygments_lexer": "ipython3",
   "version": "3.8.5"
  }
 },
 "nbformat": 4,
 "nbformat_minor": 4
}
